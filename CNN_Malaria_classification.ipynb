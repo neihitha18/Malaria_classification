{
 "cells": [
  {
   "cell_type": "code",
   "execution_count": 1,
   "id": "20500348",
   "metadata": {},
   "outputs": [],
   "source": [
    "import warnings\n",
    "warnings.filterwarnings('ignore')"
   ]
  },
  {
   "cell_type": "code",
   "execution_count": 2,
   "id": "7f0aed5c",
   "metadata": {},
   "outputs": [],
   "source": [
    "import os\n",
    "from PIL import Image\n",
    "import matplotlib.pyplot as plt\n",
    "import cv2\n",
    "import numpy as np\n",
    "from numpy import asarray"
   ]
  },
  {
   "cell_type": "code",
   "execution_count": null,
   "id": "b4629128",
   "metadata": {},
   "outputs": [],
   "source": [
    "images = []\n",
    "label = []\n",
    "\n",
    "folder = \"cell_images\"\n",
    "folder_dir= os.listdir(folder)\n",
    "\n",
    "directories = [d for d in folder_dir if os.path.isdir(os.path.join(\"cell_images\", d))]\n",
    "#loading all the image data\n",
    "category = 0\n",
    "for d in directories:\n",
    "    label_dir = os.path.join(\"cell_images\",d)\n",
    "    file_names = [os.path.join(label_dir, f) for f in os.listdir(label_dir) if f.endswith(\".png\")]\n",
    "    \n",
    "    for each in file_names:\n",
    "        img = cv2.imread(each)\n",
    "        res = cv2.resize(img,(200,150))\n",
    "        images.append(res)\n",
    "        label.append(category)\n",
    "    category += 1\n",
    "        "
   ]
  },
  {
   "cell_type": "code",
   "execution_count": 4,
   "id": "094e60e4",
   "metadata": {},
   "outputs": [
    {
     "data": {
      "text/plain": [
       "(27558, 150, 200, 3)"
      ]
     },
     "execution_count": 4,
     "metadata": {},
     "output_type": "execute_result"
    }
   ],
   "source": [
    "Data=np.asarray(images)\n",
    "Data.shape"
   ]
  },
  {
   "cell_type": "code",
   "execution_count": 5,
   "id": "345ad14e",
   "metadata": {},
   "outputs": [
    {
     "data": {
      "text/plain": [
       "(27558,)"
      ]
     },
     "execution_count": 5,
     "metadata": {},
     "output_type": "execute_result"
    }
   ],
   "source": [
    "Label=np.array(label)\n",
    "Label.shape"
   ]
  },
  {
   "cell_type": "code",
   "execution_count": 6,
   "id": "70cca074",
   "metadata": {},
   "outputs": [
    {
     "name": "stdout",
     "output_type": "stream",
     "text": [
      "(22046, 150, 200, 3)\n",
      "(22046,)\n",
      "(5512, 150, 200, 3)\n",
      "(5512,)\n"
     ]
    }
   ],
   "source": [
    "from sklearn.model_selection import train_test_split\n",
    "\n",
    "x_train, x_test, y_train, y_test = train_test_split(Data, Label, test_size = 0.2, stratify=Label, random_state = 1256)\n",
    "\n",
    "print(x_train.shape)\n",
    "print(y_train.shape)\n",
    "print(x_test.shape)\n",
    "print(y_test.shape)\n"
   ]
  },
  {
   "cell_type": "code",
   "execution_count": 7,
   "id": "f6bd1878",
   "metadata": {},
   "outputs": [],
   "source": [
    "#normalizing data\n",
    "\n",
    "x_train = x_train[:20000].astype('float32')\n",
    "x_test = x_test.astype('float32')"
   ]
  },
  {
   "cell_type": "code",
   "execution_count": null,
   "id": "60784fb2",
   "metadata": {},
   "outputs": [],
   "source": [
    "from tensorflow.keras.utils import to_categorical\n",
    "\n",
    "y_train = np.array(y_train[:20000])\n",
    "y_test = np.array(y_test)\n",
    "y_train = to_categorical(y_train)\n",
    "y_test = to_categorical(y_test)\n",
    "\n",
    "num_classes = y_train.shape[1]\n",
    "\n",
    "print(x_train.shape)\n",
    "print(y_train.shape)\n",
    "print(x_test.shape)\n",
    "print(y_test.shape)"
   ]
  },
  {
   "cell_type": "code",
   "execution_count": 9,
   "id": "27d55912",
   "metadata": {},
   "outputs": [
    {
     "name": "stdout",
     "output_type": "stream",
     "text": [
      "Model: \"sequential\"\n",
      "_________________________________________________________________\n",
      " Layer (type)                Output Shape              Param #   \n",
      "=================================================================\n",
      " conv2d (Conv2D)             (None, 148, 198, 32)      896       \n",
      "                                                                 \n",
      " max_pooling2d (MaxPooling2D  (None, 74, 99, 32)       0         \n",
      " )                                                               \n",
      "                                                                 \n",
      " dropout (Dropout)           (None, 74, 99, 32)        0         \n",
      "                                                                 \n",
      " conv2d_1 (Conv2D)           (None, 72, 97, 64)        18496     \n",
      "                                                                 \n",
      " max_pooling2d_1 (MaxPooling  (None, 36, 48, 64)       0         \n",
      " 2D)                                                             \n",
      "                                                                 \n",
      " batch_normalization (BatchN  (None, 36, 48, 64)       256       \n",
      " ormalization)                                                   \n",
      "                                                                 \n",
      " conv2d_2 (Conv2D)           (None, 34, 46, 128)       73856     \n",
      "                                                                 \n",
      " max_pooling2d_2 (MaxPooling  (None, 17, 23, 128)      0         \n",
      " 2D)                                                             \n",
      "                                                                 \n",
      " batch_normalization_1 (Batc  (None, 17, 23, 128)      512       \n",
      " hNormalization)                                                 \n",
      "                                                                 \n",
      " conv2d_3 (Conv2D)           (None, 15, 21, 256)       295168    \n",
      "                                                                 \n",
      " max_pooling2d_3 (MaxPooling  (None, 7, 10, 256)       0         \n",
      " 2D)                                                             \n",
      "                                                                 \n",
      " flatten (Flatten)           (None, 17920)             0         \n",
      "                                                                 \n",
      " dense (Dense)               (None, 300)               5376300   \n",
      "                                                                 \n",
      " dropout_1 (Dropout)         (None, 300)               0         \n",
      "                                                                 \n",
      " dense_1 (Dense)             (None, 2)                 602       \n",
      "                                                                 \n",
      "=================================================================\n",
      "Total params: 5,766,086\n",
      "Trainable params: 5,765,702\n",
      "Non-trainable params: 384\n",
      "_________________________________________________________________\n",
      "None\n"
     ]
    }
   ],
   "source": [
    "from tensorflow.keras.models import Sequential\n",
    "from tensorflow.keras.layers import Conv2D, Dense, Dropout, MaxPooling2D, Flatten, BatchNormalization\n",
    "\n",
    "#creating model\n",
    "model = Sequential()\n",
    "\n",
    "#1 convolutionlayer\n",
    "\n",
    "model.add(Conv2D(filters=32, kernel_size=(3,3),input_shape = (150,200,3) ,activation='relu'))\n",
    "model.add(MaxPooling2D(strides=2))\n",
    "model.add(Dropout(0.2))\n",
    "\n",
    "#2 convolutionlayer\n",
    "model.add(Conv2D(filters=64, kernel_size=(3,3), activation='relu'))\n",
    "model.add(MaxPooling2D(strides=2))\n",
    "model.add(BatchNormalization())\n",
    "\n",
    "#3 convolutionlayer\n",
    "model.add(Conv2D(128,(3,3), activation='relu'))\n",
    "model.add(MaxPooling2D(strides=2))\n",
    "model.add(BatchNormalization())\n",
    "\n",
    "#4 convolutionlayer\n",
    "model.add(Conv2D(filters=256, kernel_size=(3,3), activation='relu'))\n",
    "model.add(MaxPooling2D(strides=2))\n",
    "model.add(Flatten())\n",
    "\n",
    "#Fully connected Layer\n",
    "model.add(Dense(300, activation='relu'))\n",
    "model.add(Dropout(0.5))\n",
    "\n",
    "#output\n",
    "model.add(Dense(units = num_classes, activation=\"sigmoid\"))\n",
    "\n",
    "model.compile(loss=\"binary_crossentropy\", optimizer='adam', metrics=['accuracy'])\n",
    "\n",
    "print(model.summary())"
   ]
  },
  {
   "cell_type": "code",
   "execution_count": 10,
   "id": "0c3fe66c",
   "metadata": {},
   "outputs": [
    {
     "name": "stdout",
     "output_type": "stream",
     "text": [
      "Epoch 1/10\n",
      "313/313 [==============================] - 2234s 7s/step - loss: 0.6301 - accuracy: 0.8189 - val_loss: 0.4588 - val_accuracy: 0.6584\n",
      "Epoch 2/10\n",
      "313/313 [==============================] - 2057s 7s/step - loss: 0.2167 - accuracy: 0.9308 - val_loss: 0.1633 - val_accuracy: 0.9517\n",
      "Epoch 3/10\n",
      "313/313 [==============================] - 2024s 6s/step - loss: 0.1844 - accuracy: 0.9424 - val_loss: 0.1691 - val_accuracy: 0.9445\n",
      "Epoch 4/10\n",
      "313/313 [==============================] - 2130s 7s/step - loss: 0.1627 - accuracy: 0.9485 - val_loss: 0.1282 - val_accuracy: 0.9594\n",
      "Epoch 5/10\n",
      "313/313 [==============================] - 1986s 6s/step - loss: 0.1491 - accuracy: 0.9528 - val_loss: 0.1261 - val_accuracy: 0.9626\n",
      "Epoch 6/10\n",
      "313/313 [==============================] - 2182s 7s/step - loss: 0.1398 - accuracy: 0.9549 - val_loss: 0.1269 - val_accuracy: 0.9592\n",
      "Epoch 7/10\n",
      "313/313 [==============================] - 1831s 6s/step - loss: 0.1298 - accuracy: 0.9585 - val_loss: 0.1271 - val_accuracy: 0.9599\n",
      "Epoch 8/10\n",
      "313/313 [==============================] - 1988s 6s/step - loss: 0.1231 - accuracy: 0.9597 - val_loss: 0.1640 - val_accuracy: 0.9595\n",
      "Epoch 9/10\n",
      "313/313 [==============================] - 1919s 6s/step - loss: 0.1241 - accuracy: 0.9582 - val_loss: 0.1354 - val_accuracy: 0.9566\n",
      "Epoch 10/10\n",
      "313/313 [==============================] - 1851s 6s/step - loss: 0.1131 - accuracy: 0.9628 - val_loss: 0.1706 - val_accuracy: 0.9595\n"
     ]
    }
   ],
   "source": [
    "from tensorflow.keras.callbacks import EarlyStopping\n",
    "import tensorflow as tf\n",
    "\n",
    "ES = EarlyStopping(monitor='loss', patience=3)\n",
    "\n",
    "seed = 1805\n",
    "np.random.seed(seed)\n",
    "\n",
    "history = model.fit(x_train, y_train, validation_data=(x_test, y_test), batch_size=64, epochs=10, callbacks=[ES])"
   ]
  },
  {
   "cell_type": "code",
   "execution_count": 11,
   "id": "41bf7719",
   "metadata": {},
   "outputs": [
    {
     "name": "stdout",
     "output_type": "stream",
     "text": [
      "10\n"
     ]
    }
   ],
   "source": [
    "print(len(history.history['loss']))"
   ]
  },
  {
   "cell_type": "code",
   "execution_count": 14,
   "id": "e737d73e",
   "metadata": {},
   "outputs": [
    {
     "data": {
      "image/png": "[encoded data removed]",
      "text/plain": [
       "<Figure size 432x288 with 1 Axes>"
      ]
     },
     "metadata": {
      "needs_background": "light"
     },
     "output_type": "display_data"
    },
    {
     "data": {
      "image/png": "[encoded data removed]",
      "text/plain": [
       "<Figure size 432x288 with 1 Axes>"
      ]
     },
     "metadata": {
      "needs_background": "light"
     },
     "output_type": "display_data"
    }
   ],
   "source": [
    "import matplotlib.pyplot as plt\n",
    "\n",
    "# plot history for accuracy\n",
    "plt.plot(history.history['accuracy'])\n",
    "plt.plot(history.history['val_accuracy'])\n",
    "plt.title('Model Accuracy')\n",
    "plt.ylabel('accuracy')\n",
    "plt.xlabel('epoch')\n",
    "plt.legend(['train', 'test'], loc='lower right')\n",
    "plt.show()\n",
    "\n",
    "# plot history for loss\n",
    "plt.plot(history.history['loss'])\n",
    "plt.plot(history.history['val_loss'])\n",
    "plt.title('Model Loss')\n",
    "plt.ylabel('loss')\n",
    "plt.xlabel('epoch')\n",
    "plt.legend(['train', 'test'], loc='upper right')\n",
    "plt.show()"
   ]
  },
  {
   "cell_type": "code",
   "execution_count": 17,
   "id": "dc9a034b",
   "metadata": {},
   "outputs": [
    {
     "name": "stdout",
     "output_type": "stream",
     "text": [
      "(5512, 2)\n",
      "(5512,)\n",
      "(5512, 2)\n",
      "              precision    recall  f1-score   support\n",
      "\n",
      " Parasitized       0.96      0.96      0.96      2756\n",
      "  Uninfected       0.96      0.96      0.96      2756\n",
      "\n",
      "    accuracy                           0.96      5512\n",
      "   macro avg       0.96      0.96      0.96      5512\n",
      "weighted avg       0.96      0.96      0.96      5512\n",
      "\n"
     ]
    }
   ],
   "source": [
    "from sklearn.metrics import classification_report\n",
    "\n",
    "pred = model.predict(x_test)\n",
    "print(pred.shape) #the predictions return in one-hot encoding format\n",
    "pred = np.argmax(pred, axis=1)\n",
    "print(pred.shape)\n",
    "y_true = np.argmax(y_test, axis=1)\n",
    "print(y_test.shape)\n",
    "print(classification_report(y_true, pred, target_names=directories))"
   ]
  },
  {
   "cell_type": "code",
   "execution_count": 19,
   "id": "921c3645",
   "metadata": {},
   "outputs": [
    {
     "data": {
      "image/png": "[encoded data removed]",
      "text/plain": [
       "<Figure size 432x288 with 1 Axes>"
      ]
     },
     "metadata": {
      "needs_background": "light"
     },
     "output_type": "display_data"
    },
    {
     "data": {
      "image/png": "[encoded data removed]",
      "text/plain": [
       "<Figure size 432x288 with 1 Axes>"
      ]
     },
     "metadata": {
      "needs_background": "light"
     },
     "output_type": "display_data"
    }
   ],
   "source": [
    "from sklearn.metrics import roc_curve, auc\n",
    "\n",
    "y_predict = model.predict(x_test) # get the prediction probabilities\n",
    "\n",
    "false_positive_rate = dict()\n",
    "true_positive_rate = dict()\n",
    "roc_auccuracy = dict()\n",
    "for i in range(num_classes):\n",
    "    false_positive_rate[i], true_positive_rate[i], _ = roc_curve(y_test[:, i], y_predict[:, i])\n",
    "    roc_auccuracy[i] = auc(false_positive_rate[i], true_positive_rate[i])\n",
    "# Plot of a ROC curve for a specific class\n",
    "for i in range(num_classes):\n",
    "    plt.figure()\n",
    "    plt.plot(false_positive_rate[i], true_positive_rate[i], label='ROC curve (area = %0.2f)' % roc_auccuracy[i])\n",
    "    plt.plot([0, 1], [0, 1], 'k--')\n",
    "    plt.xlim([0.0, 1.0])\n",
    "    plt.ylim([0.0, 1.05])\n",
    "    plt.xlabel('False Positive Rate')\n",
    "    plt.ylabel('True Positive Rate')\n",
    "    plt.title('Receiver operating characteristic')\n",
    "    plt.legend(loc=\"lower right\")\n",
    "    plt.show()"
   ]
  },
  {
   "cell_type": "code",
   "execution_count": 22,
   "id": "604639a2",
   "metadata": {},
   "outputs": [
    {
     "name": "stdout",
     "output_type": "stream",
     "text": [
      "[[2651  105]\n",
      " [ 118 2638]]\n"
     ]
    }
   ],
   "source": [
    "from sklearn.metrics import confusion_matrix\n",
    "\n",
    "y_pred = np.argmax(y_predict, axis=1)\n",
    "y_te = np.argmax(y_test, axis=1)\n",
    "#Generate confusion matrix\n",
    "cf_matrix = confusion_matrix(y_te, y_pred)\n",
    "\n",
    "print(cf_matrix)"
   ]
  },
  {
   "cell_type": "code",
   "execution_count": 23,
   "id": "1758207c",
   "metadata": {},
   "outputs": [
    {
     "data": {
      "image/png": "[encoded data removed]",
      "text/plain": [
       "<Figure size 432x288 with 2 Axes>"
      ]
     },
     "metadata": {
      "needs_background": "light"
     },
     "output_type": "display_data"
    }
   ],
   "source": [
    "import seaborn as sb\n",
    "\n",
    "plot = sb.heatmap(cf_matrix, annot=True, cmap='Blues')\n",
    "\n",
    "plot.set_title('Confusion Matrix\\n\\n');\n",
    "plot.set_xlabel('\\nPredicted Values')\n",
    "plot.set_ylabel('Actual Values ');\n",
    "\n",
    "## Ticket labels - List must be in alphabetical order\n",
    "plot.xaxis.set_ticklabels(['False','True'])\n",
    "plot.yaxis.set_ticklabels(['False','True'])\n",
    "\n",
    "## Display Confusion Matrix.\n",
    "plt.show()"
   ]
  }
 ],
 "metadata": {
  "kernelspec": {
   "display_name": "Python 3 (ipykernel)",
   "language": "python",
   "name": "python3"
  },
  "language_info": {
   "codemirror_mode": {
    "name": "ipython",
    "version": 3
   },
   "file_extension": ".py",
   "mimetype": "text/x-python",
   "name": "python",
   "nbconvert_exporter": "python",
   "pygments_lexer": "ipython3",
   "version": "3.8.13"
  }
 },
 "nbformat": 4,
 "nbformat_minor": 5
}
