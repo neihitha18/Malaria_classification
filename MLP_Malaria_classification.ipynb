{
 "cells": [
  {
   "cell_type": "code",
   "execution_count": 1,
   "id": "59e8c64f",
   "metadata": {},
   "outputs": [],
   "source": [
    "import warnings\n",
    "warnings.filterwarnings('ignore')"
   ]
  },
  {
   "cell_type": "code",
   "execution_count": 2,
   "id": "d48f2fff",
   "metadata": {},
   "outputs": [],
   "source": [
    "import os\n",
    "from PIL import Image\n",
    "import matplotlib.pyplot as plt\n",
    "import cv2\n",
    "import numpy as np\n",
    "from numpy import asarray"
   ]
  },
  {
   "cell_type": "code",
   "execution_count": 3,
   "id": "f5cacfe6",
   "metadata": {},
   "outputs": [],
   "source": [
    "images = []\n",
    "label = []\n",
    "\n",
    "folder = \"cell_images\"\n",
    "folder_dir= os.listdir(folder)\n",
    "\n",
    "directories = [d for d in folder_dir if os.path.isdir(os.path.join(\"cell_images\", d))]\n",
    "#loading all the image data\n",
    "category = 0\n",
    "for d in directories:\n",
    "    label_dir = os.path.join(\"cell_images\",d)\n",
    "    file_names = [os.path.join(label_dir, f) for f in os.listdir(label_dir) if f.endswith(\".png\")]\n",
    "    \n",
    "    for each in file_names:\n",
    "        img = cv2.imread(each,  cv2.IMREAD_GRAYSCALE)\n",
    "        imgarr = Image.fromarray(img)\n",
    "        res = imgarr.resize((150,150))\n",
    "        images.append(np.array(res))\n",
    "        label.append(category)\n",
    "    category += 1"
   ]
  },
  {
   "cell_type": "code",
   "execution_count": 4,
   "id": "2604696b",
   "metadata": {},
   "outputs": [
    {
     "data": {
      "text/plain": [
       "(27558, 150, 150)"
      ]
     },
     "execution_count": 4,
     "metadata": {},
     "output_type": "execute_result"
    }
   ],
   "source": [
    "#converting the data into array\n",
    "Data = np.array(images)\n",
    "Data= Data.astype('float32')\n",
    "Data.shape"
   ]
  },
  {
   "cell_type": "code",
   "execution_count": 5,
   "id": "1842708a",
   "metadata": {},
   "outputs": [
    {
     "data": {
      "text/plain": [
       "(27558,)"
      ]
     },
     "execution_count": 5,
     "metadata": {},
     "output_type": "execute_result"
    }
   ],
   "source": [
    "Labels = np.array(label).astype('float32')\n",
    "Labels.shape"
   ]
  },
  {
   "cell_type": "code",
   "execution_count": 6,
   "id": "667b226d",
   "metadata": {},
   "outputs": [
    {
     "data": {
      "text/plain": [
       "(27558, 22500)"
      ]
     },
     "execution_count": 6,
     "metadata": {},
     "output_type": "execute_result"
    }
   ],
   "source": [
    "Data_flattened = Data[:].reshape(27558,22500)\n",
    "Data_flattened.shape"
   ]
  },
  {
   "cell_type": "code",
   "execution_count": 7,
   "id": "111aff20",
   "metadata": {},
   "outputs": [
    {
     "name": "stdout",
     "output_type": "stream",
     "text": [
      "(22046, 22500)\n",
      "(22046,)\n",
      "(5512, 22500)\n",
      "(5512,)\n"
     ]
    }
   ],
   "source": [
    "from sklearn.model_selection import train_test_split\n",
    "\n",
    "x_train, x_test, y_train, y_test = train_test_split(Data_flattened, Labels, test_size = 0.2, stratify=Labels, random_state = 1256)\n",
    "\n",
    "print(x_train.shape)\n",
    "print(y_train.shape)\n",
    "print(x_test.shape)\n",
    "print(y_test.shape)\n"
   ]
  },
  {
   "cell_type": "code",
   "execution_count": 8,
   "id": "c0304592",
   "metadata": {},
   "outputs": [],
   "source": [
    "from tensorflow.keras.utils import to_categorical\n",
    "\n",
    "y_train = np.array(y_train)\n",
    "y_test = np.array(y_test)\n",
    "y_train = to_categorical(y_train)\n",
    "y_test = to_categorical(y_test)"
   ]
  },
  {
   "cell_type": "code",
   "execution_count": 9,
   "id": "55a85920",
   "metadata": {},
   "outputs": [],
   "source": [
    "#normalizing data\n",
    "\n",
    "x_train = x_train.astype('float32')\n",
    "x_test = x_test.astype('float32')"
   ]
  },
  {
   "cell_type": "code",
   "execution_count": 10,
   "id": "b1be7d15",
   "metadata": {},
   "outputs": [
    {
     "name": "stdout",
     "output_type": "stream",
     "text": [
      "(22046, 22500)\n",
      "(22046, 2)\n",
      "(5512, 22500)\n",
      "(5512, 2)\n"
     ]
    }
   ],
   "source": [
    "x, y = x_train.shape\n",
    "\n",
    "print(x_train.shape)\n",
    "print(y_train.shape)\n",
    "print(x_test.shape)\n",
    "print(y_test.shape)\n"
   ]
  },
  {
   "cell_type": "code",
   "execution_count": 11,
   "id": "48c794b8",
   "metadata": {},
   "outputs": [],
   "source": [
    "from tensorflow.keras.models import Sequential\n",
    "from tensorflow.keras.layers import Dense, Dropout\n",
    "\n",
    "\n",
    "model = Sequential()\n",
    "model.add(Dense(512, activation='relu',kernel_initializer='uniform', input_dim=y))\n",
    "model.add(Dropout(0.5))\n",
    "model.add(Dense(512, activation='relu'))\n",
    "model.add(Dropout(0.5))\n",
    "model.add(Dense(2, kernel_initializer='uniform', activation='sigmoid'))\n",
    "\n",
    "\n"
   ]
  },
  {
   "cell_type": "code",
   "execution_count": 12,
   "id": "55041e36",
   "metadata": {},
   "outputs": [],
   "source": [
    "model.compile(optimizer='adam', loss='binary_crossentropy', metrics=['accuracy'])"
   ]
  },
  {
   "cell_type": "code",
   "execution_count": 13,
   "id": "4b08f4a6",
   "metadata": {},
   "outputs": [
    {
     "name": "stdout",
     "output_type": "stream",
     "text": [
      "Epoch 1/30\n",
      "87/87 [==============================] - 29s 328ms/step - loss: 87.5241 - accuracy: 0.4956 - val_loss: 0.6940 - val_accuracy: 0.5002\n",
      "Epoch 2/30\n",
      "87/87 [==============================] - 25s 293ms/step - loss: 0.6935 - accuracy: 0.4962 - val_loss: 0.6939 - val_accuracy: 0.4996\n",
      "Epoch 3/30\n",
      "87/87 [==============================] - 24s 277ms/step - loss: 0.6931 - accuracy: 0.5002 - val_loss: 0.6939 - val_accuracy: 0.4996\n",
      "Epoch 4/30\n",
      "87/87 [==============================] - 21s 243ms/step - loss: 0.8499 - accuracy: 0.5002 - val_loss: 0.6939 - val_accuracy: 0.4996\n",
      "Epoch 5/30\n",
      "87/87 [==============================] - 23s 259ms/step - loss: 0.6932 - accuracy: 0.5013 - val_loss: 0.6939 - val_accuracy: 0.4996\n",
      "Epoch 6/30\n",
      "87/87 [==============================] - 24s 271ms/step - loss: 0.6932 - accuracy: 0.4945 - val_loss: 0.6939 - val_accuracy: 0.5000\n",
      "Epoch 7/30\n",
      "87/87 [==============================] - 27s 306ms/step - loss: 0.6932 - accuracy: 0.4964 - val_loss: 0.6939 - val_accuracy: 0.5000\n",
      "Epoch 8/30\n",
      "87/87 [==============================] - 24s 278ms/step - loss: 0.6932 - accuracy: 0.5015 - val_loss: 0.6939 - val_accuracy: 0.5000\n",
      "Epoch 9/30\n",
      "87/87 [==============================] - 24s 276ms/step - loss: 0.6932 - accuracy: 0.4944 - val_loss: 0.6939 - val_accuracy: 0.5000\n",
      "Epoch 10/30\n",
      "87/87 [==============================] - 30s 348ms/step - loss: 0.6932 - accuracy: 0.5008 - val_loss: 0.6939 - val_accuracy: 0.5000\n",
      "Epoch 11/30\n",
      "87/87 [==============================] - 29s 334ms/step - loss: 0.6932 - accuracy: 0.5004 - val_loss: 0.6939 - val_accuracy: 0.5000\n",
      "Epoch 12/30\n",
      "87/87 [==============================] - 30s 343ms/step - loss: 0.6931 - accuracy: 0.5024 - val_loss: 0.6939 - val_accuracy: 0.4996\n",
      "Epoch 13/30\n",
      "87/87 [==============================] - 26s 296ms/step - loss: 0.6932 - accuracy: 0.4993 - val_loss: 0.6939 - val_accuracy: 0.4996\n",
      "Epoch 14/30\n",
      "87/87 [==============================] - 26s 301ms/step - loss: 0.6932 - accuracy: 0.5007 - val_loss: 0.6939 - val_accuracy: 0.4996\n",
      "Epoch 15/30\n",
      "87/87 [==============================] - 28s 328ms/step - loss: 0.6931 - accuracy: 0.4991 - val_loss: 0.6939 - val_accuracy: 0.4996\n",
      "Epoch 16/30\n",
      "87/87 [==============================] - 31s 357ms/step - loss: 0.6932 - accuracy: 0.4946 - val_loss: 0.6939 - val_accuracy: 0.4996\n",
      "Epoch 17/30\n",
      "87/87 [==============================] - 27s 307ms/step - loss: 0.6932 - accuracy: 0.4997 - val_loss: 0.6939 - val_accuracy: 0.4996\n",
      "Epoch 18/30\n",
      "87/87 [==============================] - 23s 266ms/step - loss: 0.6932 - accuracy: 0.4952 - val_loss: 0.6939 - val_accuracy: 0.4996\n",
      "Epoch 19/30\n",
      "87/87 [==============================] - 29s 332ms/step - loss: 0.6932 - accuracy: 0.4980 - val_loss: 0.6939 - val_accuracy: 0.4996\n",
      "Epoch 20/30\n",
      "87/87 [==============================] - 27s 315ms/step - loss: 0.6932 - accuracy: 0.4984 - val_loss: 0.6939 - val_accuracy: 0.4996\n",
      "Epoch 21/30\n",
      "87/87 [==============================] - 24s 272ms/step - loss: 0.6932 - accuracy: 0.5004 - val_loss: 0.6939 - val_accuracy: 0.4996\n",
      "Epoch 22/30\n",
      "87/87 [==============================] - 25s 289ms/step - loss: 0.6932 - accuracy: 0.4927 - val_loss: 0.6939 - val_accuracy: 0.5000\n",
      "Epoch 23/30\n",
      "87/87 [==============================] - 24s 280ms/step - loss: 0.6932 - accuracy: 0.4992 - val_loss: 0.6939 - val_accuracy: 0.4996\n",
      "Epoch 24/30\n",
      "87/87 [==============================] - 26s 300ms/step - loss: 0.6932 - accuracy: 0.4987 - val_loss: 0.6939 - val_accuracy: 0.4996\n",
      "Epoch 25/30\n",
      "87/87 [==============================] - 29s 334ms/step - loss: 0.6932 - accuracy: 0.5000 - val_loss: 0.6939 - val_accuracy: 0.4996\n",
      "Epoch 26/30\n",
      "87/87 [==============================] - 28s 323ms/step - loss: 0.6932 - accuracy: 0.5005 - val_loss: 0.6939 - val_accuracy: 0.4996\n",
      "Epoch 27/30\n",
      "87/87 [==============================] - 27s 312ms/step - loss: 0.6932 - accuracy: 0.4949 - val_loss: 0.6939 - val_accuracy: 0.4996\n",
      "Epoch 28/30\n",
      "87/87 [==============================] - 30s 345ms/step - loss: 0.6932 - accuracy: 0.4954 - val_loss: 0.6939 - val_accuracy: 0.5000\n",
      "Epoch 29/30\n",
      "87/87 [==============================] - 29s 328ms/step - loss: 0.6932 - accuracy: 0.4983 - val_loss: 0.6939 - val_accuracy: 0.4996\n",
      "Epoch 30/30\n",
      "87/87 [==============================] - 28s 324ms/step - loss: 0.6932 - accuracy: 0.4951 - val_loss: 0.6939 - val_accuracy: 0.5000\n",
      "30\n"
     ]
    }
   ],
   "source": [
    "\n",
    "\n",
    "history = model.fit(x_train, y_train, batch_size = 256, epochs=30, validation_data=(x_test, y_test))\n",
    "\n",
    "print(len(history.history['loss']))"
   ]
  },
  {
   "cell_type": "code",
   "execution_count": 14,
   "id": "5db0ec80",
   "metadata": {},
   "outputs": [
    {
     "name": "stdout",
     "output_type": "stream",
     "text": [
      "173/173 [==============================] - 2s 13ms/step - loss: 0.6939 - accuracy: 0.5000\n",
      "Evaluation result : Loss = 0.69394451379776, accuracy = 0.5\n"
     ]
    }
   ],
   "source": [
    "[test_loss, test_acc] = model.evaluate(x_test, y_test)\n",
    "print(\"Evaluation result : Loss = {}, accuracy = {}\".format(test_loss, test_acc))"
   ]
  },
  {
   "cell_type": "code",
   "execution_count": 15,
   "id": "40dfe83a",
   "metadata": {},
   "outputs": [
    {
     "data": {
      "image/png": "[encoded data removed]",
      "text/plain": [
       "<Figure size 432x288 with 1 Axes>"
      ]
     },
     "metadata": {
      "needs_background": "light"
     },
     "output_type": "display_data"
    },
    {
     "data": {
      "image/png": "[encoded data removed]",
      "text/plain": [
       "<Figure size 432x288 with 1 Axes>"
      ]
     },
     "metadata": {
      "needs_background": "light"
     },
     "output_type": "display_data"
    }
   ],
   "source": [
    "import matplotlib.pyplot as plt\n",
    "\n",
    "# plot history for accuracy\n",
    "plt.plot(history.history['accuracy'])\n",
    "plt.plot(history.history['val_accuracy'])\n",
    "plt.title('Model Accuracy')\n",
    "plt.ylabel('accuracy')\n",
    "plt.xlabel('epoch')\n",
    "plt.legend(['train', 'test'], loc='lower right')\n",
    "plt.show()\n",
    "\n",
    "# plot history for loss\n",
    "plt.plot(history.history['loss'])\n",
    "plt.plot(history.history['val_loss'])\n",
    "plt.title('Model Loss')\n",
    "plt.ylabel('loss')\n",
    "plt.xlabel('epoch')\n",
    "plt.legend(['train', 'test'], loc='upper right')\n",
    "plt.show()"
   ]
  },
  {
   "cell_type": "code",
   "execution_count": 16,
   "id": "8c237c22",
   "metadata": {},
   "outputs": [
    {
     "name": "stdout",
     "output_type": "stream",
     "text": [
      "(5512, 2)\n",
      "(5512,)\n",
      "(5512, 2)\n",
      "              precision    recall  f1-score   support\n",
      "\n",
      " Parasitized       0.50      0.00      0.00      2756\n",
      "  Uninfected       0.50      1.00      0.67      2756\n",
      "\n",
      "    accuracy                           0.50      5512\n",
      "   macro avg       0.50      0.50      0.33      5512\n",
      "weighted avg       0.50      0.50      0.33      5512\n",
      "\n"
     ]
    }
   ],
   "source": [
    "from sklearn.metrics import classification_report\n",
    "\n",
    "pred = model.predict(x_test)\n",
    "print(pred.shape) #the predictions return in one-hot encoding format\n",
    "pred = np.argmax(pred, axis=1)\n",
    "print(pred.shape)\n",
    "y_true = np.argmax(y_test, axis=1)\n",
    "print(y_test.shape)\n",
    "print(classification_report(y_true, pred, target_names=directories))"
   ]
  },
  {
   "cell_type": "code",
   "execution_count": 19,
   "id": "00cf547f",
   "metadata": {},
   "outputs": [
    {
     "data": {
      "image/png": "[encoded data removed]",
      "text/plain": [
       "<Figure size 432x288 with 1 Axes>"
      ]
     },
     "metadata": {
      "needs_background": "light"
     },
     "output_type": "display_data"
    },
    {
     "data": {
      "image/png": "[encoded data removed]",
      "text/plain": [
       "<Figure size 432x288 with 1 Axes>"
      ]
     },
     "metadata": {
      "needs_background": "light"
     },
     "output_type": "display_data"
    }
   ],
   "source": [
    "from sklearn.metrics import roc_curve, auc\n",
    "\n",
    "y_predict = model.predict(x_test) # get the prediction probabilities\n",
    "\n",
    "false_positive_rate = dict()\n",
    "true_positive_rate = dict()\n",
    "roc_auccuracy = dict()\n",
    "for i in range(2):\n",
    "    false_positive_rate[i], true_positive_rate[i], _ = roc_curve(y_test[:, i], y_predict[:, i])\n",
    "    roc_auccuracy[i] = auc(false_positive_rate[i], true_positive_rate[i])\n",
    "# Plot of a ROC curve for a specific class\n",
    "for i in range(2):\n",
    "    plt.figure()\n",
    "    plt.plot(false_positive_rate[i], true_positive_rate[i], label='ROC curve (area = %0.2f)' % roc_auccuracy[i])\n",
    "    plt.plot([0, 1], [0, 1], 'k--')\n",
    "    plt.xlim([0.0, 1.0])\n",
    "    plt.ylim([0.0, 1.05])\n",
    "    plt.xlabel('False Positive Rate')\n",
    "    plt.ylabel('True Positive Rate')\n",
    "    plt.title('Receiver operating characteristic')\n",
    "    plt.legend(loc=\"lower right\")\n",
    "    plt.show()"
   ]
  },
  {
   "cell_type": "code",
   "execution_count": 20,
   "id": "1c117abe",
   "metadata": {},
   "outputs": [
    {
     "name": "stdout",
     "output_type": "stream",
     "text": [
      "[[   2 2754]\n",
      " [   2 2754]]\n"
     ]
    }
   ],
   "source": [
    "from sklearn.metrics import confusion_matrix\n",
    "\n",
    "y_pred = np.argmax(y_predict, axis=1)\n",
    "y_te = np.argmax(y_test, axis=1)\n",
    "#Generate confusion matrix\n",
    "cf_matrix = confusion_matrix(y_te, y_pred)\n",
    "\n",
    "print(cf_matrix)"
   ]
  },
  {
   "cell_type": "code",
   "execution_count": 21,
   "id": "24abbd06",
   "metadata": {},
   "outputs": [
    {
     "data": {
      "image/png": "[encoded data removed]",
      "text/plain": [
       "<Figure size 432x288 with 2 Axes>"
      ]
     },
     "metadata": {
      "needs_background": "light"
     },
     "output_type": "display_data"
    }
   ],
   "source": [
    "import seaborn as sb\n",
    "\n",
    "plot = sb.heatmap(cf_matrix, annot=True, cmap='Blues')\n",
    "\n",
    "plot.set_title('Confusion Matrix\\n\\n');\n",
    "plot.set_xlabel('\\nPredicted Values')\n",
    "plot.set_ylabel('Actual Values ');\n",
    "\n",
    "## Ticket labels - List must be in alphabetical order\n",
    "plot.xaxis.set_ticklabels(['False','True'])\n",
    "plot.yaxis.set_ticklabels(['False','True'])\n",
    "\n",
    "## Display Confusion Matrix.\n",
    "plt.show()"
   ]
  }
 ],
 "metadata": {
  "kernelspec": {
   "display_name": "Python 3 (ipykernel)",
   "language": "python",
   "name": "python3"
  },
  "language_info": {
   "codemirror_mode": {
    "name": "ipython",
    "version": 3
   },
   "file_extension": ".py",
   "mimetype": "text/x-python",
   "name": "python",
   "nbconvert_exporter": "python",
   "pygments_lexer": "ipython3",
   "version": "3.8.13"
  }
 },
 "nbformat": 4,
 "nbformat_minor": 5
}
